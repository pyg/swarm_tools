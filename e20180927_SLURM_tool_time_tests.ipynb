{
 "cells": [
  {
   "cell_type": "code",
   "execution_count": 1,
   "metadata": {},
   "outputs": [
    {
     "name": "stdout",
     "output_type": "stream",
     "text": [
      "Importing Jupyter notebook from m20180926_SLURM_tools.ipynb\n"
     ]
    }
   ],
   "source": [
    "import nbimporter\n",
    "from m20180926_SLURM_tools import Swarm_Map"
   ]
  },
  {
   "cell_type": "code",
   "execution_count": 2,
   "metadata": {
    "collapsed": true
   },
   "outputs": [],
   "source": [
    "def test_bundle(test,test_arr,bundle_size=2):    \n",
    "    smap = Swarm_Map()\n",
    "    return smap.bundle_map(test, test_arr)\n",
    "def test_vanilla(test,test_arr,ncpu=2):\n",
    "    smap = Swarm_Map()\n",
    "    return smap.vanilla_map(test,test_arr,ncpu=ncpu)\n",
    "def test_ipengine(test,test_arr,engines=2):\n",
    "    smap = Swarm_Map()\n",
    "    return smap.ipengine_map(test, test_arr,ncpu=engines)"
   ]
  },
  {
   "cell_type": "code",
   "execution_count": 3,
   "metadata": {},
   "outputs": [
    {
     "name": "stdout",
     "output_type": "stream",
     "text": [
      "4628.529127020324\n",
      "23.4 s ± 0 ns per loop (mean ± std. dev. of 1 run, 1 loop each)\n"
     ]
    }
   ],
   "source": [
    "%%timeit -n 1 -r 1\n",
    "from random import random\n",
    "def test(x,y):\n",
    "    from random import random\n",
    "    for _ in range(int(1e6)):\n",
    "        x = x*y*random() + 1\n",
    "        y = x*y*random() + 1\n",
    "        x = x % 100\n",
    "        y = y % 100\n",
    "    return x+y\n",
    "test_arr = [(random(),random()) for _ in range(50)]\n",
    "print(sum(list(map(test,*zip(*test_arr)))))"
   ]
  },
  {
   "cell_type": "code",
   "execution_count": 4,
   "metadata": {},
   "outputs": [
    {
     "name": "stdout",
     "output_type": "stream",
     "text": [
      "b'Submitted batch job 7867307\\n'\n",
      "   JOBID PARTI     NAME     USER ST     TIME NOD MIN MIN_M NODELIST(REASON)\n",
      " 7867200  defq  ipstart    ksung  R    18:23   1   1   10G swarm001\n",
      " 7867307  defq ipengine    ksung  R     0:04   1   1    2G swarm001\n",
      "\n",
      "2\n",
      "b''\n",
      "4403.743458146772\n",
      "32 s ± 0 ns per loop (mean ± std. dev. of 1 run, 1 loop each)\n"
     ]
    }
   ],
   "source": [
    "%%timeit -n 1 -r 1\n",
    "from random import random\n",
    "def test(x,y):\n",
    "    from random import random\n",
    "    for _ in range(int(1e6)):\n",
    "        x = x*y*random() + 1\n",
    "        y = x*y*random() + 1\n",
    "        x = x % 100\n",
    "        y = y % 100\n",
    "    return x+y\n",
    "test_arr = [(random(),random()) for _ in range(50)]\n",
    "print(sum(list(test_ipengine(test,test_arr))))"
   ]
  },
  {
   "cell_type": "code",
   "execution_count": 5,
   "metadata": {},
   "outputs": [
    {
     "name": "stdout",
     "output_type": "stream",
     "text": [
      "b'Submitted batch job 7867308\\n'\n",
      "   JOBID PARTI     NAME     USER ST     TIME NOD MIN MIN_M NODELIST(REASON)\n",
      " 7867308  defq ipengine    ksung  R     0:05   3   1    2G swarm[001-003]\n",
      " 7867200  defq  ipstart    ksung  R    18:59   1   1   10G swarm001\n",
      "\n",
      "50\n",
      "b''\n",
      "3914.6414927456935\n",
      "18.4 s ± 0 ns per loop (mean ± std. dev. of 1 run, 1 loop each)\n"
     ]
    }
   ],
   "source": [
    "%%timeit -n 1 -r 1\n",
    "from random import random\n",
    "def test(x,y):\n",
    "    from random import random\n",
    "    for _ in range(int(1e6)):\n",
    "        x = x*y*random() + 1\n",
    "        y = x*y*random() + 1\n",
    "        x = x % 100\n",
    "        y = y % 100\n",
    "    return x+y\n",
    "test_arr = [(random(),random()) for _ in range(50)]\n",
    "print(sum(list(test_ipengine(test,test_arr,50))))"
   ]
  },
  {
   "cell_type": "code",
   "execution_count": 6,
   "metadata": {},
   "outputs": [
    {
     "name": "stdout",
     "output_type": "stream",
     "text": [
      "4355.840339034762\n",
      "1.95 s ± 0 ns per loop (mean ± std. dev. of 1 run, 1 loop each)\n"
     ]
    }
   ],
   "source": [
    "%%timeit -n 1 -r 1\n",
    "from random import random \n",
    "def test(x,y):\n",
    "    from random import random\n",
    "    for _ in range(int(1e6)):\n",
    "        x = x*y*random() + 1\n",
    "        y = x*y*random() + 1\n",
    "        x = x % 100\n",
    "        y = y % 100\n",
    "    return x+y\n",
    "test_arr = [(random(),random()) for _ in range(50)]\n",
    "print(sum(list(test_vanilla(test,test_arr,50))))"
   ]
  },
  {
   "cell_type": "code",
   "execution_count": 7,
   "metadata": {},
   "outputs": [
    {
     "name": "stdout",
     "output_type": "stream",
     "text": [
      "4597.234952835716\n",
      "9.2 s ± 0 ns per loop (mean ± std. dev. of 1 run, 1 loop each)\n"
     ]
    }
   ],
   "source": [
    "%%timeit -n 1 -r 1\n",
    "from random import random \n",
    "def test(x,y):\n",
    "    from random import random\n",
    "    for _ in range(int(1e6)):\n",
    "        x = x*y*random() + 1\n",
    "        y = x*y*random() + 1\n",
    "        x = x % 100\n",
    "        y = y % 100\n",
    "    return x+y\n",
    "test_arr = [(random(),random()) for _ in range(50)]\n",
    "print(sum(list(test_bundle(test,test_arr,4))))"
   ]
  },
  {
   "cell_type": "code",
   "execution_count": 8,
   "metadata": {},
   "outputs": [
    {
     "name": "stdout",
     "output_type": "stream",
     "text": [
      "4518.942498492039\n",
      "9.04 s ± 0 ns per loop (mean ± std. dev. of 1 run, 1 loop each)\n"
     ]
    }
   ],
   "source": [
    "%%timeit -n 1 -r 1\n",
    "from random import random \n",
    "def test(x,y):\n",
    "    from random import random\n",
    "    for _ in range(int(1e6)):\n",
    "        x = x*y*random() + 1\n",
    "        y = x*y*random() + 1\n",
    "        x = x % 100\n",
    "        y = y % 100\n",
    "    return x+y\n",
    "test_arr = [(random(),random()) for _ in range(50)]\n",
    "print(sum(list(test_bundle(test,test_arr,10))))"
   ]
  }
 ],
 "metadata": {
  "kernelspec": {
   "display_name": "Python 3",
   "language": "python",
   "name": "python3"
  },
  "language_info": {
   "codemirror_mode": {
    "name": "ipython",
    "version": 3
   },
   "file_extension": ".py",
   "mimetype": "text/x-python",
   "name": "python",
   "nbconvert_exporter": "python",
   "pygments_lexer": "ipython3",
   "version": "3.5.2"
  }
 },
 "nbformat": 4,
 "nbformat_minor": 2
}
